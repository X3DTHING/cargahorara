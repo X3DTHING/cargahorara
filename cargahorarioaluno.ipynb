{
  "nbformat": 4,
  "nbformat_minor": 0,
  "metadata": {
    "colab": {
      "provenance": [],
      "authorship_tag": "ABX9TyMHE/4rqFCQCbD9jJaBTouC",
      "include_colab_link": true
    },
    "kernelspec": {
      "name": "python3",
      "display_name": "Python 3"
    },
    "language_info": {
      "name": "python"
    }
  },
  "cells": [
    {
      "cell_type": "markdown",
      "metadata": {
        "id": "view-in-github",
        "colab_type": "text"
      },
      "source": [
        "<a href=\"https://colab.research.google.com/github/X3DTHING/cargahorara/blob/main/cargahorarioaluno.ipynb\" target=\"_parent\"><img src=\"https://colab.research.google.com/assets/colab-badge.svg\" alt=\"Open In Colab\"/></a>"
      ]
    },
    {
      "cell_type": "code",
      "execution_count": 4,
      "metadata": {
        "colab": {
          "base_uri": "https://localhost:8080/"
        },
        "id": "I813FM-W3LM4",
        "outputId": "36aeaa6f-64b1-4841-dee0-2b7099e7200c"
      },
      "outputs": [
        {
          "output_type": "stream",
          "name": "stdout",
          "text": [
            "Informe a carga horária do curso: 400\n",
            "O aluno pode ter até 100.0 faltas.\n"
          ]
        }
      ],
      "source": [
        "# prompt: criar um programa onde será informado a carga horaria do curso e informe quantas faltas o aluno pode ter com a falta de 25% do curso:\n",
        "\n",
        "carga_horaria = int(input(\"Informe a carga horária do curso: \"))\n",
        "faltas_permitidas = carga_horaria * 0.25\n",
        "\n",
        "print(\"O aluno pode ter até\", faltas_permitidas, \"faltas.\")\n"
      ]
    }
  ]
}